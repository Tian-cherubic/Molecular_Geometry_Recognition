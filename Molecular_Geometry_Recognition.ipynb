{
 "cells": [
  {
   "cell_type": "markdown",
   "metadata": {},
   "source": [
    "## Molecular Geometry Recognition with PCA/t-SNE and K-Means Clustering\n",
    "During the unbiased global minimum search, thousands of initial structures are generated using various algorithms. These initial structures are first optimized using a cheap method to reduce CPU cost. The representative low-lying structures from the initial optimizations are further optimized using an expensive method to achieve higher accuracy. Such low-lying structures are manually picked based on their energetics and structural similarities. While there could be many similar or duplicated structures, it is really time-consuming to manually go through thousands of files to visualize molecular structures, extract energetics, and decide candidates for further optimizations.\n",
    "\n",
    "In this notebook, I parsed structural and energy data from 5000 Gaussian output files (~4.7 GB) and employed K-means clustering to autoselect representative structures for further optimizations. For each structure, I calculated distances from each atom to four reference points: the molecular centroid (ctd), the closest atom to ctd (cst), the farthest atom to ctd (fct), and the farthest atom to fct (ftf). The first three moments of these four atomic distance sets were calculated to encode molecular shape. Since there are thirteen features including twelve moments and energy, Principal Component Analysis (PCA) and t-distributed stochastic neighborhood embedding (t-SNE) were applied for dimensionality reduction and data visualization. For the current dataset, t-SNE has a much better performance than PCA. The dimension-reduced dataset was partitioned into k clusters using k-means clustering. In the end, representative structures were obtained by selecting structures that are closest to each cluster center from K-means clustering."
   ]
  },
  {
   "cell_type": "markdown",
   "metadata": {},
   "source": [
    "## Outline\n",
    "\n",
    "1. **Data preparation** <br>\n",
    "    1a. Parse coordinates and energies from Gaussian output files <br>\n",
    "    1b. Calculate distances to four reference points (ctd, tst, fct, ftf) <br>\n",
    "    1c. Obtain first three moments of the distance sets to four reference points to encode molecular shape <br>\n",
    "    1d. Create a dataframe with moments and energy data <br>\n",
    "    \n",
    "2. **Data exploration and visualization** <br> \n",
    "\n",
    "3. **Dimensionality reduction and data visualization using PCA/t-SNE** <br> \n",
    "    3a. Function to plot 2D figure <br>\n",
    "    3b. Use PCA to reduce the dataset down to two dimensions to plot the result <br>\n",
    "    3c. Use t-SNE to reduce the dataset down to two dimensions to plot the result <br>\n",
    "\n",
    "4. **K-means clustering and visualization** <br>\n",
    "    4a. Function to plot Inertia diagram <br>\n",
    "    4b. Function to plot silhouette score <br>\n",
    "    4c. Function to plot Voronoi diagram <br>\n",
    "    4d. K-Means clustering on data reduced via PCA <br>\n",
    "    4e. K-Means clustering on data reduced via t-SNE <br>\n",
    "\n",
    "5. **Export coordinates of molecules that are closest to cluster centroids** <br>\n",
    "\n"
   ]
  },
  {
   "cell_type": "code",
   "execution_count": 1,
   "metadata": {},
   "outputs": [],
   "source": [
    "import sys\n",
    "import numpy as np\n",
    "import pandas as pd  \n",
    "from scipy import stats\n",
    "\n",
    "from sklearn.decomposition import PCA\n",
    "from sklearn.manifold import TSNE\n",
    "from sklearn.cluster import KMeans\n",
    "from sklearn.metrics import silhouette_score\n",
    "\n",
    "\n",
    "%matplotlib inline\n",
    "import matplotlib.pyplot as plt"
   ]
  },
  {
   "cell_type": "markdown",
   "metadata": {},
   "source": [
    "### 1, Data preparation"
   ]
  },
  {
   "cell_type": "markdown",
   "metadata": {},
   "source": [
    "**1a, Parse coordinates and energies from Gaussian output files** <br>"
   ]
  },
  {
   "cell_type": "code",
   "execution_count": 2,
   "metadata": {},
   "outputs": [],
   "source": [
    "def parseData(i):\n",
    "    log_file_path = r\"GMS/temporaryJob\" + str(i) + \".log\"\n",
    "    with open(log_file_path, \"r\") as file:\n",
    "        content = file.readlines()\n",
    "\n",
    "    # obtain optimized coordinates and energy if possible; otherwise take input coordinates and set energy = 0\n",
    "    input_coordinates = []\n",
    "    optimized_coordinates = []\n",
    "    energy = 0\n",
    "    for i in range(len(content))[::-1]:\n",
    "        if 'Standard orientation' in content[i]:\n",
    "            optimized_coordinates = content[i+5:i+13]\n",
    "        if 'Symbolic' in content[i]:\n",
    "            input_coordinates = content[i+1:i+9]\n",
    "        if 'E(UPBE1PBE)' in content[i]:\n",
    "            energy = float(content[i][27:41])\n",
    "        if (optimized_coordinates != [] ) and (energy != 0):\n",
    "            break\n",
    "\n",
    "    coordinates = []\n",
    "    if optimized_coordinates != []:\n",
    "        for item in optimized_coordinates:\n",
    "            new_item = []\n",
    "            for value in item.split()[3:6]:\n",
    "                new_item.append(float(value))\n",
    "            coordinates.append(new_item)\n",
    "    else:\n",
    "        for item in input_coordinates:\n",
    "            new_item = []\n",
    "            for value in item.split()[1:4]:\n",
    "                new_item.append(float(value))\n",
    "            coordinates.append(new_item)\n",
    "        \n",
    "    return np.array(coordinates), energy"
   ]
  },
  {
   "cell_type": "code",
   "execution_count": 3,
   "metadata": {},
   "outputs": [
    {
     "data": {
      "text/plain": [
       "(array([[ 0.008321, -1.189844, -1.010845],\n",
       "        [ 2.275578, -1.031223,  0.37209 ],\n",
       "        [ 1.05419 ,  1.602626,  0.692867],\n",
       "        [-5.183024, -0.344293,  0.112248],\n",
       "        [ 1.478654,  4.175201, -0.355152],\n",
       "        [-2.72487 , -0.521493, -1.075404],\n",
       "        [ 4.099707, -2.371056, -0.766906],\n",
       "        [ 0.090029, -1.38828 ,  1.723854]]), -925.254688299)"
      ]
     },
     "execution_count": 3,
     "metadata": {},
     "output_type": "execute_result"
    }
   ],
   "source": [
    "parseData(1)"
   ]
  },
  {
   "cell_type": "code",
   "execution_count": 4,
   "metadata": {},
   "outputs": [],
   "source": [
    "arr_coor, _ = parseData(1)"
   ]
  },
  {
   "cell_type": "markdown",
   "metadata": {},
   "source": [
    "**1b, Calculate distances to four reference points (ctd, tst, fct, ftf)** <br>"
   ]
  },
  {
   "cell_type": "code",
   "execution_count": 5,
   "metadata": {},
   "outputs": [],
   "source": [
    "def getDistances(arr):    \n",
    "    # obtain distances to the molecular centroid (ctd), the closest atom to ctd (cst), the farthest atom to ctd (fct), and the farthest atom to fct (ftf)\n",
    "    ctd = np.average(arr, axis=0)\n",
    "    \n",
    "    distances = []\n",
    "    for item in arr:\n",
    "        distances.append(np.linalg.norm(item-ctd))\n",
    "    tst = arr[distances.index(min(distances))]\n",
    "    fct = arr[distances.index(max(distances))]\n",
    "    \n",
    "    distances = []\n",
    "    for item in arr:\n",
    "        distances.append(np.linalg.norm(item-fct))\n",
    "    ftf = arr[distances.index(max(distances))]\n",
    "    \n",
    "    arr_refs = np.array([ctd, tst, fct, ftf])\n",
    "\n",
    "    distances_to_refs = []\n",
    "    for point in arr:\n",
    "        for ref in arr_refs:\n",
    "            distances_to_refs.append(np.linalg.norm(point-ref))\n",
    "\n",
    "    return np.array(distances_to_refs).reshape((8, 4))"
   ]
  },
  {
   "cell_type": "code",
   "execution_count": 6,
   "metadata": {},
   "outputs": [
    {
     "data": {
      "text/plain": [
       "array([[1.44154299, 0.        , 5.37832291, 4.26546685],\n",
       "       [2.35509368, 2.66047442, 7.49467374, 2.53375432],\n",
       "       [2.09516006, 3.43429254, 6.55975994, 5.21500332],\n",
       "       [5.32665043, 5.37832291, 0.        , 9.54200057],\n",
       "       [4.52380269, 5.60138557, 8.06363705, 7.06349353],\n",
       "       [3.06887891, 2.81446158, 2.73577013, 7.07749288],\n",
       "       [4.60843277, 4.26546685, 9.54200057, 0.        ],\n",
       "       [2.16382909, 2.74310621, 5.61179746, 4.82154039]])"
      ]
     },
     "execution_count": 6,
     "metadata": {},
     "output_type": "execute_result"
    }
   ],
   "source": [
    "getDistances(arr_coor)"
   ]
  },
  {
   "cell_type": "code",
   "execution_count": 7,
   "metadata": {},
   "outputs": [],
   "source": [
    "arr_distances_to_refs = getDistances(arr_coor)"
   ]
  },
  {
   "cell_type": "markdown",
   "metadata": {},
   "source": [
    "**1c, Obtain first three moments of the distance sets to four reference points to encode molecular shape** <br>\n",
    "These geometrical shape descriptors is proposed by PEDRO J. BALLESTER and W. GRAHAM RICHARDS in J Comput Chem 28: 1711–1723, 2007"
   ]
  },
  {
   "cell_type": "code",
   "execution_count": 8,
   "metadata": {},
   "outputs": [],
   "source": [
    "def getMoments(arr):\n",
    "    moments = stats.describe(arr)\n",
    "    return np.array([moments.mean, moments.variance, moments.skewness]).transpose().reshape(12)"
   ]
  },
  {
   "cell_type": "code",
   "execution_count": 9,
   "metadata": {},
   "outputs": [
    {
     "data": {
      "text/plain": [
       "array([ 3.19792383,  2.05375656,  0.32780411,  3.36218876,  3.19712772,\n",
       "       -0.49675444,  5.67324522,  9.3842825 , -0.68885316,  5.06484398,\n",
       "        8.69572778, -0.24289375])"
      ]
     },
     "execution_count": 9,
     "metadata": {},
     "output_type": "execute_result"
    }
   ],
   "source": [
    "getMoments(arr_distances_to_refs)"
   ]
  },
  {
   "cell_type": "markdown",
   "metadata": {},
   "source": [
    "**1d, Create a dataframe with moments and energy data** <br>\n",
    "Combine functionals in sections 1-3 to return a list of twelve moments and energy, transfer moments and energy data to a dataframe, save it to a CSV file"
   ]
  },
  {
   "cell_type": "code",
   "execution_count": 10,
   "metadata": {},
   "outputs": [],
   "source": [
    "def getFeatures(i):\n",
    "    arr_coor, energy = parseData(i)\n",
    "    arr_dis_to_refs = getDistances(arr_coor)\n",
    "    moments = getMoments(arr_dis_to_refs)\n",
    "    moments_list = moments.tolist()\n",
    "    moments_list.append(energy)\n",
    "    return moments_list"
   ]
  },
  {
   "cell_type": "code",
   "execution_count": 11,
   "metadata": {},
   "outputs": [
    {
     "data": {
      "text/plain": [
       "[3.197923827817288,\n",
       " 2.053756557879108,\n",
       " 0.3278041119657398,\n",
       " 3.36218875827985,\n",
       " 3.197127721816542,\n",
       " -0.49675444243575206,\n",
       " 5.673245224804817,\n",
       " 9.384282500842232,\n",
       " -0.6888531574661915,\n",
       " 5.064843983050167,\n",
       " 8.695727775145022,\n",
       " -0.24289375045618458,\n",
       " -925.254688299]"
      ]
     },
     "execution_count": 11,
     "metadata": {},
     "output_type": "execute_result"
    }
   ],
   "source": [
    "getFeatures(1)"
   ]
  },
  {
   "cell_type": "code",
   "execution_count": 12,
   "metadata": {},
   "outputs": [],
   "source": [
    "def getDataset(m):\n",
    "    data = []\n",
    "    for i in range(1, m + 1):\n",
    "        data.append(getFeatures(i))\n",
    "    return data"
   ]
  },
  {
   "cell_type": "code",
   "execution_count": 13,
   "metadata": {},
   "outputs": [
    {
     "data": {
      "text/plain": [
       "[[3.197923827817288,\n",
       "  2.053756557879108,\n",
       "  0.3278041119657398,\n",
       "  3.36218875827985,\n",
       "  3.197127721816542,\n",
       "  -0.49675444243575206,\n",
       "  5.673245224804817,\n",
       "  9.384282500842232,\n",
       "  -0.6888531574661915,\n",
       "  5.064843983050167,\n",
       "  8.695727775145022,\n",
       "  -0.24289375045618458,\n",
       "  -925.254688299],\n",
       " [2.645990904169348,\n",
       "  0.6204866037326221,\n",
       "  -0.5354785752359359,\n",
       "  2.7821841386795243,\n",
       "  1.755233990830082,\n",
       "  -0.9279152497361534,\n",
       "  4.1800963079459095,\n",
       "  3.942679495648829,\n",
       "  -1.210352268001801,\n",
       "  3.6191399161471125,\n",
       "  3.5297641642790536,\n",
       "  -0.6779571672922207,\n",
       "  -925.274154784]]"
      ]
     },
     "execution_count": 13,
     "metadata": {},
     "output_type": "execute_result"
    }
   ],
   "source": [
    "getDataset(2)"
   ]
  },
  {
   "cell_type": "code",
   "execution_count": 14,
   "metadata": {},
   "outputs": [],
   "source": [
    "total_data = getDataset(5000)\n",
    "df = pd.DataFrame(total_data, columns = ['ctd-u1', 'ctd-u2', 'ctd-u3', 'cst-u1', 'cst-u2', 'cst-u3', 'fct-u1', 'fct-u2', 'fct-u3', 'ftf-u1', 'ftf-u2', 'ftf-u3', 'energy'])"
   ]
  },
  {
   "cell_type": "code",
   "execution_count": 15,
   "metadata": {},
   "outputs": [
    {
     "data": {
      "text/html": [
       "<div>\n",
       "<style scoped>\n",
       "    .dataframe tbody tr th:only-of-type {\n",
       "        vertical-align: middle;\n",
       "    }\n",
       "\n",
       "    .dataframe tbody tr th {\n",
       "        vertical-align: top;\n",
       "    }\n",
       "\n",
       "    .dataframe thead th {\n",
       "        text-align: right;\n",
       "    }\n",
       "</style>\n",
       "<table border=\"1\" class=\"dataframe\">\n",
       "  <thead>\n",
       "    <tr style=\"text-align: right;\">\n",
       "      <th></th>\n",
       "      <th>ctd-u1</th>\n",
       "      <th>ctd-u2</th>\n",
       "      <th>ctd-u3</th>\n",
       "      <th>cst-u1</th>\n",
       "      <th>cst-u2</th>\n",
       "      <th>cst-u3</th>\n",
       "      <th>fct-u1</th>\n",
       "      <th>fct-u2</th>\n",
       "      <th>fct-u3</th>\n",
       "      <th>ftf-u1</th>\n",
       "      <th>ftf-u2</th>\n",
       "      <th>ftf-u3</th>\n",
       "      <th>energy</th>\n",
       "    </tr>\n",
       "  </thead>\n",
       "  <tbody>\n",
       "    <tr>\n",
       "      <th>0</th>\n",
       "      <td>3.197924</td>\n",
       "      <td>2.053757</td>\n",
       "      <td>0.327804</td>\n",
       "      <td>3.362189</td>\n",
       "      <td>3.197128</td>\n",
       "      <td>-0.496754</td>\n",
       "      <td>5.673245</td>\n",
       "      <td>9.384283</td>\n",
       "      <td>-0.688853</td>\n",
       "      <td>5.064844</td>\n",
       "      <td>8.695728</td>\n",
       "      <td>-0.242894</td>\n",
       "      <td>-925.254688</td>\n",
       "    </tr>\n",
       "    <tr>\n",
       "      <th>1</th>\n",
       "      <td>2.645991</td>\n",
       "      <td>0.620487</td>\n",
       "      <td>-0.535479</td>\n",
       "      <td>2.782184</td>\n",
       "      <td>1.755234</td>\n",
       "      <td>-0.927915</td>\n",
       "      <td>4.180096</td>\n",
       "      <td>3.942679</td>\n",
       "      <td>-1.210352</td>\n",
       "      <td>3.619140</td>\n",
       "      <td>3.529764</td>\n",
       "      <td>-0.677957</td>\n",
       "      <td>-925.274155</td>\n",
       "    </tr>\n",
       "    <tr>\n",
       "      <th>2</th>\n",
       "      <td>3.542624</td>\n",
       "      <td>1.913443</td>\n",
       "      <td>0.575070</td>\n",
       "      <td>3.659708</td>\n",
       "      <td>3.118637</td>\n",
       "      <td>-1.027733</td>\n",
       "      <td>6.564596</td>\n",
       "      <td>12.050823</td>\n",
       "      <td>-0.915856</td>\n",
       "      <td>4.584369</td>\n",
       "      <td>9.157299</td>\n",
       "      <td>0.300333</td>\n",
       "      <td>-925.168849</td>\n",
       "    </tr>\n",
       "    <tr>\n",
       "      <th>3</th>\n",
       "      <td>2.383727</td>\n",
       "      <td>0.628125</td>\n",
       "      <td>-0.683417</td>\n",
       "      <td>2.526887</td>\n",
       "      <td>1.307143</td>\n",
       "      <td>-1.285009</td>\n",
       "      <td>3.648823</td>\n",
       "      <td>3.060446</td>\n",
       "      <td>-1.160373</td>\n",
       "      <td>3.519129</td>\n",
       "      <td>3.194952</td>\n",
       "      <td>-0.772761</td>\n",
       "      <td>-925.449594</td>\n",
       "    </tr>\n",
       "    <tr>\n",
       "      <th>4</th>\n",
       "      <td>3.101969</td>\n",
       "      <td>1.555439</td>\n",
       "      <td>0.038755</td>\n",
       "      <td>3.314306</td>\n",
       "      <td>2.739704</td>\n",
       "      <td>-0.813368</td>\n",
       "      <td>5.157009</td>\n",
       "      <td>9.266998</td>\n",
       "      <td>-0.379333</td>\n",
       "      <td>4.538512</td>\n",
       "      <td>8.071246</td>\n",
       "      <td>0.015897</td>\n",
       "      <td>-925.222121</td>\n",
       "    </tr>\n",
       "  </tbody>\n",
       "</table>\n",
       "</div>"
      ],
      "text/plain": [
       "     ctd-u1    ctd-u2    ctd-u3    cst-u1    cst-u2    cst-u3    fct-u1  \\\n",
       "0  3.197924  2.053757  0.327804  3.362189  3.197128 -0.496754  5.673245   \n",
       "1  2.645991  0.620487 -0.535479  2.782184  1.755234 -0.927915  4.180096   \n",
       "2  3.542624  1.913443  0.575070  3.659708  3.118637 -1.027733  6.564596   \n",
       "3  2.383727  0.628125 -0.683417  2.526887  1.307143 -1.285009  3.648823   \n",
       "4  3.101969  1.555439  0.038755  3.314306  2.739704 -0.813368  5.157009   \n",
       "\n",
       "      fct-u2    fct-u3    ftf-u1    ftf-u2    ftf-u3      energy  \n",
       "0   9.384283 -0.688853  5.064844  8.695728 -0.242894 -925.254688  \n",
       "1   3.942679 -1.210352  3.619140  3.529764 -0.677957 -925.274155  \n",
       "2  12.050823 -0.915856  4.584369  9.157299  0.300333 -925.168849  \n",
       "3   3.060446 -1.160373  3.519129  3.194952 -0.772761 -925.449594  \n",
       "4   9.266998 -0.379333  4.538512  8.071246  0.015897 -925.222121  "
      ]
     },
     "execution_count": 15,
     "metadata": {},
     "output_type": "execute_result"
    }
   ],
   "source": [
    "df.head()"
   ]
  },
  {
   "cell_type": "code",
   "execution_count": 16,
   "metadata": {},
   "outputs": [],
   "source": [
    "df.to_csv('coordinates_energy.csv', index=False)"
   ]
  },
  {
   "cell_type": "markdown",
   "metadata": {},
   "source": [
    "### 2, Data exploration and visualization\n",
    "Reset index to match Gaussian output file name, generate descriptive statistics, draw histograms of all the columns, filter structures with relative energy above 1.5 eV"
   ]
  },
  {
   "cell_type": "code",
   "execution_count": 17,
   "metadata": {},
   "outputs": [],
   "source": [
    "df = pd.read_csv('coordinates_energy.csv')"
   ]
  },
  {
   "cell_type": "code",
   "execution_count": 18,
   "metadata": {},
   "outputs": [
    {
     "data": {
      "text/html": [
       "<div>\n",
       "<style scoped>\n",
       "    .dataframe tbody tr th:only-of-type {\n",
       "        vertical-align: middle;\n",
       "    }\n",
       "\n",
       "    .dataframe tbody tr th {\n",
       "        vertical-align: top;\n",
       "    }\n",
       "\n",
       "    .dataframe thead th {\n",
       "        text-align: right;\n",
       "    }\n",
       "</style>\n",
       "<table border=\"1\" class=\"dataframe\">\n",
       "  <thead>\n",
       "    <tr style=\"text-align: right;\">\n",
       "      <th></th>\n",
       "      <th>ctd-u1</th>\n",
       "      <th>ctd-u2</th>\n",
       "      <th>ctd-u3</th>\n",
       "      <th>cst-u1</th>\n",
       "      <th>cst-u2</th>\n",
       "      <th>cst-u3</th>\n",
       "      <th>fct-u1</th>\n",
       "      <th>fct-u2</th>\n",
       "      <th>fct-u3</th>\n",
       "      <th>ftf-u1</th>\n",
       "      <th>ftf-u2</th>\n",
       "      <th>ftf-u3</th>\n",
       "      <th>energy</th>\n",
       "    </tr>\n",
       "  </thead>\n",
       "  <tbody>\n",
       "    <tr>\n",
       "      <th>0</th>\n",
       "      <td>3.197924</td>\n",
       "      <td>2.053757</td>\n",
       "      <td>0.327804</td>\n",
       "      <td>3.362189</td>\n",
       "      <td>3.197128</td>\n",
       "      <td>-0.496754</td>\n",
       "      <td>5.673245</td>\n",
       "      <td>9.384283</td>\n",
       "      <td>-0.688853</td>\n",
       "      <td>5.064844</td>\n",
       "      <td>8.695728</td>\n",
       "      <td>-0.242894</td>\n",
       "      <td>-925.254688</td>\n",
       "    </tr>\n",
       "    <tr>\n",
       "      <th>1</th>\n",
       "      <td>2.645991</td>\n",
       "      <td>0.620487</td>\n",
       "      <td>-0.535479</td>\n",
       "      <td>2.782184</td>\n",
       "      <td>1.755234</td>\n",
       "      <td>-0.927915</td>\n",
       "      <td>4.180096</td>\n",
       "      <td>3.942679</td>\n",
       "      <td>-1.210352</td>\n",
       "      <td>3.619140</td>\n",
       "      <td>3.529764</td>\n",
       "      <td>-0.677957</td>\n",
       "      <td>-925.274155</td>\n",
       "    </tr>\n",
       "    <tr>\n",
       "      <th>2</th>\n",
       "      <td>3.542624</td>\n",
       "      <td>1.913443</td>\n",
       "      <td>0.575070</td>\n",
       "      <td>3.659708</td>\n",
       "      <td>3.118637</td>\n",
       "      <td>-1.027733</td>\n",
       "      <td>6.564596</td>\n",
       "      <td>12.050823</td>\n",
       "      <td>-0.915856</td>\n",
       "      <td>4.584369</td>\n",
       "      <td>9.157299</td>\n",
       "      <td>0.300333</td>\n",
       "      <td>-925.168849</td>\n",
       "    </tr>\n",
       "    <tr>\n",
       "      <th>3</th>\n",
       "      <td>2.383727</td>\n",
       "      <td>0.628125</td>\n",
       "      <td>-0.683417</td>\n",
       "      <td>2.526887</td>\n",
       "      <td>1.307143</td>\n",
       "      <td>-1.285009</td>\n",
       "      <td>3.648823</td>\n",
       "      <td>3.060446</td>\n",
       "      <td>-1.160373</td>\n",
       "      <td>3.519129</td>\n",
       "      <td>3.194952</td>\n",
       "      <td>-0.772761</td>\n",
       "      <td>-925.449594</td>\n",
       "    </tr>\n",
       "    <tr>\n",
       "      <th>4</th>\n",
       "      <td>3.101969</td>\n",
       "      <td>1.555439</td>\n",
       "      <td>0.038755</td>\n",
       "      <td>3.314306</td>\n",
       "      <td>2.739704</td>\n",
       "      <td>-0.813368</td>\n",
       "      <td>5.157009</td>\n",
       "      <td>9.266998</td>\n",
       "      <td>-0.379333</td>\n",
       "      <td>4.538512</td>\n",
       "      <td>8.071246</td>\n",
       "      <td>0.015897</td>\n",
       "      <td>-925.222121</td>\n",
       "    </tr>\n",
       "  </tbody>\n",
       "</table>\n",
       "</div>"
      ],
      "text/plain": [
       "     ctd-u1    ctd-u2    ctd-u3    cst-u1    cst-u2    cst-u3    fct-u1  \\\n",
       "0  3.197924  2.053757  0.327804  3.362189  3.197128 -0.496754  5.673245   \n",
       "1  2.645991  0.620487 -0.535479  2.782184  1.755234 -0.927915  4.180096   \n",
       "2  3.542624  1.913443  0.575070  3.659708  3.118637 -1.027733  6.564596   \n",
       "3  2.383727  0.628125 -0.683417  2.526887  1.307143 -1.285009  3.648823   \n",
       "4  3.101969  1.555439  0.038755  3.314306  2.739704 -0.813368  5.157009   \n",
       "\n",
       "      fct-u2    fct-u3    ftf-u1    ftf-u2    ftf-u3      energy  \n",
       "0   9.384283 -0.688853  5.064844  8.695728 -0.242894 -925.254688  \n",
       "1   3.942679 -1.210352  3.619140  3.529764 -0.677957 -925.274155  \n",
       "2  12.050823 -0.915856  4.584369  9.157299  0.300333 -925.168849  \n",
       "3   3.060446 -1.160373  3.519129  3.194952 -0.772761 -925.449594  \n",
       "4   9.266998 -0.379333  4.538512  8.071246  0.015897 -925.222121  "
      ]
     },
     "execution_count": 18,
     "metadata": {},
     "output_type": "execute_result"
    }
   ],
   "source": [
    "df.head()"
   ]
  },
  {
   "cell_type": "code",
   "execution_count": 19,
   "metadata": {},
   "outputs": [],
   "source": [
    "# match index with job name\n",
    "df.index = np.arange(1, len(df) + 1)"
   ]
  },
  {
   "cell_type": "code",
   "execution_count": 20,
   "metadata": {},
   "outputs": [
    {
     "data": {
      "text/html": [
       "<div>\n",
       "<style scoped>\n",
       "    .dataframe tbody tr th:only-of-type {\n",
       "        vertical-align: middle;\n",
       "    }\n",
       "\n",
       "    .dataframe tbody tr th {\n",
       "        vertical-align: top;\n",
       "    }\n",
       "\n",
       "    .dataframe thead th {\n",
       "        text-align: right;\n",
       "    }\n",
       "</style>\n",
       "<table border=\"1\" class=\"dataframe\">\n",
       "  <thead>\n",
       "    <tr style=\"text-align: right;\">\n",
       "      <th></th>\n",
       "      <th>ctd-u1</th>\n",
       "      <th>ctd-u2</th>\n",
       "      <th>ctd-u3</th>\n",
       "      <th>cst-u1</th>\n",
       "      <th>cst-u2</th>\n",
       "      <th>cst-u3</th>\n",
       "      <th>fct-u1</th>\n",
       "      <th>fct-u2</th>\n",
       "      <th>fct-u3</th>\n",
       "      <th>ftf-u1</th>\n",
       "      <th>ftf-u2</th>\n",
       "      <th>ftf-u3</th>\n",
       "      <th>energy</th>\n",
       "    </tr>\n",
       "  </thead>\n",
       "  <tbody>\n",
       "    <tr>\n",
       "      <th>1</th>\n",
       "      <td>3.197924</td>\n",
       "      <td>2.053757</td>\n",
       "      <td>0.327804</td>\n",
       "      <td>3.362189</td>\n",
       "      <td>3.197128</td>\n",
       "      <td>-0.496754</td>\n",
       "      <td>5.673245</td>\n",
       "      <td>9.384283</td>\n",
       "      <td>-0.688853</td>\n",
       "      <td>5.064844</td>\n",
       "      <td>8.695728</td>\n",
       "      <td>-0.242894</td>\n",
       "      <td>-925.254688</td>\n",
       "    </tr>\n",
       "    <tr>\n",
       "      <th>2</th>\n",
       "      <td>2.645991</td>\n",
       "      <td>0.620487</td>\n",
       "      <td>-0.535479</td>\n",
       "      <td>2.782184</td>\n",
       "      <td>1.755234</td>\n",
       "      <td>-0.927915</td>\n",
       "      <td>4.180096</td>\n",
       "      <td>3.942679</td>\n",
       "      <td>-1.210352</td>\n",
       "      <td>3.619140</td>\n",
       "      <td>3.529764</td>\n",
       "      <td>-0.677957</td>\n",
       "      <td>-925.274155</td>\n",
       "    </tr>\n",
       "    <tr>\n",
       "      <th>3</th>\n",
       "      <td>3.542624</td>\n",
       "      <td>1.913443</td>\n",
       "      <td>0.575070</td>\n",
       "      <td>3.659708</td>\n",
       "      <td>3.118637</td>\n",
       "      <td>-1.027733</td>\n",
       "      <td>6.564596</td>\n",
       "      <td>12.050823</td>\n",
       "      <td>-0.915856</td>\n",
       "      <td>4.584369</td>\n",
       "      <td>9.157299</td>\n",
       "      <td>0.300333</td>\n",
       "      <td>-925.168849</td>\n",
       "    </tr>\n",
       "    <tr>\n",
       "      <th>4</th>\n",
       "      <td>2.383727</td>\n",
       "      <td>0.628125</td>\n",
       "      <td>-0.683417</td>\n",
       "      <td>2.526887</td>\n",
       "      <td>1.307143</td>\n",
       "      <td>-1.285009</td>\n",
       "      <td>3.648823</td>\n",
       "      <td>3.060446</td>\n",
       "      <td>-1.160373</td>\n",
       "      <td>3.519129</td>\n",
       "      <td>3.194952</td>\n",
       "      <td>-0.772761</td>\n",
       "      <td>-925.449594</td>\n",
       "    </tr>\n",
       "    <tr>\n",
       "      <th>5</th>\n",
       "      <td>3.101969</td>\n",
       "      <td>1.555439</td>\n",
       "      <td>0.038755</td>\n",
       "      <td>3.314306</td>\n",
       "      <td>2.739704</td>\n",
       "      <td>-0.813368</td>\n",
       "      <td>5.157009</td>\n",
       "      <td>9.266998</td>\n",
       "      <td>-0.379333</td>\n",
       "      <td>4.538512</td>\n",
       "      <td>8.071246</td>\n",
       "      <td>0.015897</td>\n",
       "      <td>-925.222121</td>\n",
       "    </tr>\n",
       "  </tbody>\n",
       "</table>\n",
       "</div>"
      ],
      "text/plain": [
       "     ctd-u1    ctd-u2    ctd-u3    cst-u1    cst-u2    cst-u3    fct-u1  \\\n",
       "1  3.197924  2.053757  0.327804  3.362189  3.197128 -0.496754  5.673245   \n",
       "2  2.645991  0.620487 -0.535479  2.782184  1.755234 -0.927915  4.180096   \n",
       "3  3.542624  1.913443  0.575070  3.659708  3.118637 -1.027733  6.564596   \n",
       "4  2.383727  0.628125 -0.683417  2.526887  1.307143 -1.285009  3.648823   \n",
       "5  3.101969  1.555439  0.038755  3.314306  2.739704 -0.813368  5.157009   \n",
       "\n",
       "      fct-u2    fct-u3    ftf-u1    ftf-u2    ftf-u3      energy  \n",
       "1   9.384283 -0.688853  5.064844  8.695728 -0.242894 -925.254688  \n",
       "2   3.942679 -1.210352  3.619140  3.529764 -0.677957 -925.274155  \n",
       "3  12.050823 -0.915856  4.584369  9.157299  0.300333 -925.168849  \n",
       "4   3.060446 -1.160373  3.519129  3.194952 -0.772761 -925.449594  \n",
       "5   9.266998 -0.379333  4.538512  8.071246  0.015897 -925.222121  "
      ]
     },
     "execution_count": 20,
     "metadata": {},
     "output_type": "execute_result"
    }
   ],
   "source": [
    "df.head()"
   ]
  },
  {
   "cell_type": "code",
   "execution_count": 21,
   "metadata": {},
   "outputs": [
    {
     "data": {
      "text/html": [
       "<div>\n",
       "<style scoped>\n",
       "    .dataframe tbody tr th:only-of-type {\n",
       "        vertical-align: middle;\n",
       "    }\n",
       "\n",
       "    .dataframe tbody tr th {\n",
       "        vertical-align: top;\n",
       "    }\n",
       "\n",
       "    .dataframe thead th {\n",
       "        text-align: right;\n",
       "    }\n",
       "</style>\n",
       "<table border=\"1\" class=\"dataframe\">\n",
       "  <thead>\n",
       "    <tr style=\"text-align: right;\">\n",
       "      <th></th>\n",
       "      <th>ctd-u1</th>\n",
       "      <th>ctd-u2</th>\n",
       "      <th>ctd-u3</th>\n",
       "      <th>cst-u1</th>\n",
       "      <th>cst-u2</th>\n",
       "      <th>cst-u3</th>\n",
       "      <th>fct-u1</th>\n",
       "      <th>fct-u2</th>\n",
       "      <th>fct-u3</th>\n",
       "      <th>ftf-u1</th>\n",
       "      <th>ftf-u2</th>\n",
       "      <th>ftf-u3</th>\n",
       "      <th>energy</th>\n",
       "    </tr>\n",
       "  </thead>\n",
       "  <tbody>\n",
       "    <tr>\n",
       "      <th>count</th>\n",
       "      <td>5000.000000</td>\n",
       "      <td>5000.000000</td>\n",
       "      <td>5000.000000</td>\n",
       "      <td>5000.000000</td>\n",
       "      <td>5000.000000</td>\n",
       "      <td>5000.000000</td>\n",
       "      <td>5000.000000</td>\n",
       "      <td>5000.000000</td>\n",
       "      <td>5000.000000</td>\n",
       "      <td>5000.000000</td>\n",
       "      <td>5000.000000</td>\n",
       "      <td>5000.000000</td>\n",
       "      <td>5000.000000</td>\n",
       "    </tr>\n",
       "    <tr>\n",
       "      <th>mean</th>\n",
       "      <td>3.124392</td>\n",
       "      <td>1.725941</td>\n",
       "      <td>-0.029429</td>\n",
       "      <td>3.233489</td>\n",
       "      <td>2.926053</td>\n",
       "      <td>-0.625163</td>\n",
       "      <td>5.345278</td>\n",
       "      <td>9.047127</td>\n",
       "      <td>-0.640276</td>\n",
       "      <td>4.714558</td>\n",
       "      <td>8.178172</td>\n",
       "      <td>-0.209632</td>\n",
       "      <td>-922.640277</td>\n",
       "    </tr>\n",
       "    <tr>\n",
       "      <th>std</th>\n",
       "      <td>0.404011</td>\n",
       "      <td>0.988271</td>\n",
       "      <td>0.478698</td>\n",
       "      <td>0.393653</td>\n",
       "      <td>1.249916</td>\n",
       "      <td>0.460052</td>\n",
       "      <td>0.892157</td>\n",
       "      <td>3.981747</td>\n",
       "      <td>0.258820</td>\n",
       "      <td>0.763998</td>\n",
       "      <td>3.760549</td>\n",
       "      <td>0.307291</td>\n",
       "      <td>44.854463</td>\n",
       "    </tr>\n",
       "    <tr>\n",
       "      <th>min</th>\n",
       "      <td>2.193434</td>\n",
       "      <td>0.090804</td>\n",
       "      <td>-2.175120</td>\n",
       "      <td>2.235732</td>\n",
       "      <td>0.878176</td>\n",
       "      <td>-2.237200</td>\n",
       "      <td>3.135145</td>\n",
       "      <td>2.299441</td>\n",
       "      <td>-1.800424</td>\n",
       "      <td>3.004318</td>\n",
       "      <td>2.168807</td>\n",
       "      <td>-1.185988</td>\n",
       "      <td>-925.458391</td>\n",
       "    </tr>\n",
       "    <tr>\n",
       "      <th>25%</th>\n",
       "      <td>2.860076</td>\n",
       "      <td>1.100513</td>\n",
       "      <td>-0.319451</td>\n",
       "      <td>2.971054</td>\n",
       "      <td>2.189083</td>\n",
       "      <td>-0.876506</td>\n",
       "      <td>4.766994</td>\n",
       "      <td>6.364484</td>\n",
       "      <td>-0.818096</td>\n",
       "      <td>4.186743</td>\n",
       "      <td>5.663028</td>\n",
       "      <td>-0.415231</td>\n",
       "      <td>-925.229774</td>\n",
       "    </tr>\n",
       "    <tr>\n",
       "      <th>50%</th>\n",
       "      <td>3.084884</td>\n",
       "      <td>1.548494</td>\n",
       "      <td>0.004159</td>\n",
       "      <td>3.207453</td>\n",
       "      <td>2.745461</td>\n",
       "      <td>-0.611090</td>\n",
       "      <td>5.282120</td>\n",
       "      <td>8.223915</td>\n",
       "      <td>-0.630808</td>\n",
       "      <td>4.650723</td>\n",
       "      <td>7.421958</td>\n",
       "      <td>-0.200026</td>\n",
       "      <td>-925.173651</td>\n",
       "    </tr>\n",
       "    <tr>\n",
       "      <th>75%</th>\n",
       "      <td>3.360222</td>\n",
       "      <td>2.156028</td>\n",
       "      <td>0.301182</td>\n",
       "      <td>3.464987</td>\n",
       "      <td>3.410114</td>\n",
       "      <td>-0.324313</td>\n",
       "      <td>5.888275</td>\n",
       "      <td>10.930872</td>\n",
       "      <td>-0.449249</td>\n",
       "      <td>5.168016</td>\n",
       "      <td>9.893112</td>\n",
       "      <td>-0.004107</td>\n",
       "      <td>-925.125889</td>\n",
       "    </tr>\n",
       "    <tr>\n",
       "      <th>max</th>\n",
       "      <td>8.403546</td>\n",
       "      <td>34.349239</td>\n",
       "      <td>1.727954</td>\n",
       "      <td>7.994534</td>\n",
       "      <td>45.838898</td>\n",
       "      <td>1.022651</td>\n",
       "      <td>21.015859</td>\n",
       "      <td>80.518214</td>\n",
       "      <td>0.037532</td>\n",
       "      <td>13.807267</td>\n",
       "      <td>84.331623</td>\n",
       "      <td>0.794778</td>\n",
       "      <td>195.070405</td>\n",
       "    </tr>\n",
       "  </tbody>\n",
       "</table>\n",
       "</div>"
      ],
      "text/plain": [
       "            ctd-u1       ctd-u2       ctd-u3       cst-u1       cst-u2  \\\n",
       "count  5000.000000  5000.000000  5000.000000  5000.000000  5000.000000   \n",
       "mean      3.124392     1.725941    -0.029429     3.233489     2.926053   \n",
       "std       0.404011     0.988271     0.478698     0.393653     1.249916   \n",
       "min       2.193434     0.090804    -2.175120     2.235732     0.878176   \n",
       "25%       2.860076     1.100513    -0.319451     2.971054     2.189083   \n",
       "50%       3.084884     1.548494     0.004159     3.207453     2.745461   \n",
       "75%       3.360222     2.156028     0.301182     3.464987     3.410114   \n",
       "max       8.403546    34.349239     1.727954     7.994534    45.838898   \n",
       "\n",
       "            cst-u3       fct-u1       fct-u2       fct-u3       ftf-u1  \\\n",
       "count  5000.000000  5000.000000  5000.000000  5000.000000  5000.000000   \n",
       "mean     -0.625163     5.345278     9.047127    -0.640276     4.714558   \n",
       "std       0.460052     0.892157     3.981747     0.258820     0.763998   \n",
       "min      -2.237200     3.135145     2.299441    -1.800424     3.004318   \n",
       "25%      -0.876506     4.766994     6.364484    -0.818096     4.186743   \n",
       "50%      -0.611090     5.282120     8.223915    -0.630808     4.650723   \n",
       "75%      -0.324313     5.888275    10.930872    -0.449249     5.168016   \n",
       "max       1.022651    21.015859    80.518214     0.037532    13.807267   \n",
       "\n",
       "            ftf-u2       ftf-u3       energy  \n",
       "count  5000.000000  5000.000000  5000.000000  \n",
       "mean      8.178172    -0.209632  -922.640277  \n",
       "std       3.760549     0.307291    44.854463  \n",
       "min       2.168807    -1.185988  -925.458391  \n",
       "25%       5.663028    -0.415231  -925.229774  \n",
       "50%       7.421958    -0.200026  -925.173651  \n",
       "75%       9.893112    -0.004107  -925.125889  \n",
       "max      84.331623     0.794778   195.070405  "
      ]
     },
     "execution_count": 21,
     "metadata": {},
     "output_type": "execute_result"
    }
   ],
   "source": [
    "df.describe()"
   ]
  },
  {
   "cell_type": "code",
   "execution_count": 22,
   "metadata": {},
   "outputs": [
    {
     "data": {
      "image/png": "[encoded data removed]",
      "text/plain": [
       "<Figure size 432x288 with 16 Axes>"
      ]
     },
     "metadata": {},
     "output_type": "display_data"
    }
   ],
   "source": [
    "df.hist(bins=50)\n",
    "plt.show()"
   ]
  },
  {
   "cell_type": "code",
   "execution_count": 23,
   "metadata": {},
   "outputs": [
    {
     "data": {
      "image/png": "[encoded data removed]",
      "text/plain": [
       "<Figure size 432x288 with 1 Axes>"
      ]
     },
     "metadata": {},
     "output_type": "display_data"
    }
   ],
   "source": [
    "# the distribution of energy data is abnormal, indicating the existence of outliers\n",
    "df['energy'].hist(bins=50)\n",
    "plt.show()"
   ]
  },
  {
   "cell_type": "code",
   "execution_count": 24,
   "metadata": {},
   "outputs": [],
   "source": [
    "# filter structures with energies 1.5 eV (0.55 hartree) higher, as they are too high too be oserved in our experiments\n",
    "df1 = df[df['energy'] < (-925.458391 + 0.055)]"
   ]
  },
  {
   "cell_type": "code",
   "execution_count": 25,
   "metadata": {},
   "outputs": [
    {
     "data": {
      "text/html": [
       "<div>\n",
       "<style scoped>\n",
       "    .dataframe tbody tr th:only-of-type {\n",
       "        vertical-align: middle;\n",
       "    }\n",
       "\n",
       "    .dataframe tbody tr th {\n",
       "        vertical-align: top;\n",
       "    }\n",
       "\n",
       "    .dataframe thead th {\n",
       "        text-align: right;\n",
       "    }\n",
       "</style>\n",
       "<table border=\"1\" class=\"dataframe\">\n",
       "  <thead>\n",
       "    <tr style=\"text-align: right;\">\n",
       "      <th></th>\n",
       "      <th>ctd-u1</th>\n",
       "      <th>ctd-u2</th>\n",
       "      <th>ctd-u3</th>\n",
       "      <th>cst-u1</th>\n",
       "      <th>cst-u2</th>\n",
       "      <th>cst-u3</th>\n",
       "      <th>fct-u1</th>\n",
       "      <th>fct-u2</th>\n",
       "      <th>fct-u3</th>\n",
       "      <th>ftf-u1</th>\n",
       "      <th>ftf-u2</th>\n",
       "      <th>ftf-u3</th>\n",
       "      <th>energy</th>\n",
       "    </tr>\n",
       "  </thead>\n",
       "  <tbody>\n",
       "    <tr>\n",
       "      <th>count</th>\n",
       "      <td>247.000000</td>\n",
       "      <td>247.000000</td>\n",
       "      <td>247.000000</td>\n",
       "      <td>247.000000</td>\n",
       "      <td>247.000000</td>\n",
       "      <td>247.000000</td>\n",
       "      <td>247.000000</td>\n",
       "      <td>247.000000</td>\n",
       "      <td>247.000000</td>\n",
       "      <td>247.000000</td>\n",
       "      <td>247.000000</td>\n",
       "      <td>247.000000</td>\n",
       "      <td>247.000000</td>\n",
       "    </tr>\n",
       "    <tr>\n",
       "      <th>mean</th>\n",
       "      <td>2.450611</td>\n",
       "      <td>0.792540</td>\n",
       "      <td>-0.528699</td>\n",
       "      <td>2.577647</td>\n",
       "      <td>1.468393</td>\n",
       "      <td>-1.154835</td>\n",
       "      <td>3.954793</td>\n",
       "      <td>4.127484</td>\n",
       "      <td>-0.873456</td>\n",
       "      <td>3.549351</td>\n",
       "      <td>3.631385</td>\n",
       "      <td>-0.512046</td>\n",
       "      <td>-925.442282</td>\n",
       "    </tr>\n",
       "    <tr>\n",
       "      <th>std</th>\n",
       "      <td>0.134619</td>\n",
       "      <td>0.341199</td>\n",
       "      <td>0.584035</td>\n",
       "      <td>0.121255</td>\n",
       "      <td>0.395692</td>\n",
       "      <td>0.616623</td>\n",
       "      <td>0.574585</td>\n",
       "      <td>1.470006</td>\n",
       "      <td>0.181567</td>\n",
       "      <td>0.304402</td>\n",
       "      <td>1.089699</td>\n",
       "      <td>0.335612</td>\n",
       "      <td>0.015879</td>\n",
       "    </tr>\n",
       "    <tr>\n",
       "      <th>min</th>\n",
       "      <td>2.309091</td>\n",
       "      <td>0.491351</td>\n",
       "      <td>-1.914585</td>\n",
       "      <td>2.363681</td>\n",
       "      <td>0.926831</td>\n",
       "      <td>-2.222823</td>\n",
       "      <td>3.307538</td>\n",
       "      <td>2.749756</td>\n",
       "      <td>-1.220623</td>\n",
       "      <td>3.004318</td>\n",
       "      <td>2.168807</td>\n",
       "      <td>-1.058328</td>\n",
       "      <td>-925.458391</td>\n",
       "    </tr>\n",
       "    <tr>\n",
       "      <th>25%</th>\n",
       "      <td>2.342330</td>\n",
       "      <td>0.573926</td>\n",
       "      <td>-0.844085</td>\n",
       "      <td>2.496981</td>\n",
       "      <td>1.199088</td>\n",
       "      <td>-1.553556</td>\n",
       "      <td>3.555421</td>\n",
       "      <td>3.097571</td>\n",
       "      <td>-0.951797</td>\n",
       "      <td>3.364435</td>\n",
       "      <td>2.784472</td>\n",
       "      <td>-0.789769</td>\n",
       "      <td>-925.456709</td>\n",
       "    </tr>\n",
       "    <tr>\n",
       "      <th>50%</th>\n",
       "      <td>2.413568</td>\n",
       "      <td>0.671131</td>\n",
       "      <td>-0.539098</td>\n",
       "      <td>2.558387</td>\n",
       "      <td>1.386568</td>\n",
       "      <td>-1.181344</td>\n",
       "      <td>3.696833</td>\n",
       "      <td>3.340439</td>\n",
       "      <td>-0.917673</td>\n",
       "      <td>3.494880</td>\n",
       "      <td>3.336231</td>\n",
       "      <td>-0.570141</td>\n",
       "      <td>-925.448843</td>\n",
       "    </tr>\n",
       "    <tr>\n",
       "      <th>75%</th>\n",
       "      <td>2.540851</td>\n",
       "      <td>0.882612</td>\n",
       "      <td>-0.115731</td>\n",
       "      <td>2.634797</td>\n",
       "      <td>1.590349</td>\n",
       "      <td>-0.775375</td>\n",
       "      <td>4.150450</td>\n",
       "      <td>4.798780</td>\n",
       "      <td>-0.754242</td>\n",
       "      <td>3.680844</td>\n",
       "      <td>4.318485</td>\n",
       "      <td>-0.336307</td>\n",
       "      <td>-925.429230</td>\n",
       "    </tr>\n",
       "    <tr>\n",
       "      <th>max</th>\n",
       "      <td>2.903043</td>\n",
       "      <td>2.383720</td>\n",
       "      <td>0.903028</td>\n",
       "      <td>2.997938</td>\n",
       "      <td>2.969996</td>\n",
       "      <td>-0.038913</td>\n",
       "      <td>5.427180</td>\n",
       "      <td>9.513115</td>\n",
       "      <td>-0.284879</td>\n",
       "      <td>5.217143</td>\n",
       "      <td>9.319861</td>\n",
       "      <td>0.375247</td>\n",
       "      <td>-925.404608</td>\n",
       "    </tr>\n",
       "  </tbody>\n",
       "</table>\n",
       "</div>"
      ],
      "text/plain": [
       "           ctd-u1      ctd-u2      ctd-u3      cst-u1      cst-u2      cst-u3  \\\n",
       "count  247.000000  247.000000  247.000000  247.000000  247.000000  247.000000   \n",
       "mean     2.450611    0.792540   -0.528699    2.577647    1.468393   -1.154835   \n",
       "std      0.134619    0.341199    0.584035    0.121255    0.395692    0.616623   \n",
       "min      2.309091    0.491351   -1.914585    2.363681    0.926831   -2.222823   \n",
       "25%      2.342330    0.573926   -0.844085    2.496981    1.199088   -1.553556   \n",
       "50%      2.413568    0.671131   -0.539098    2.558387    1.386568   -1.181344   \n",
       "75%      2.540851    0.882612   -0.115731    2.634797    1.590349   -0.775375   \n",
       "max      2.903043    2.383720    0.903028    2.997938    2.969996   -0.038913   \n",
       "\n",
       "           fct-u1      fct-u2      fct-u3      ftf-u1      ftf-u2      ftf-u3  \\\n",
       "count  247.000000  247.000000  247.000000  247.000000  247.000000  247.000000   \n",
       "mean     3.954793    4.127484   -0.873456    3.549351    3.631385   -0.512046   \n",
       "std      0.574585    1.470006    0.181567    0.304402    1.089699    0.335612   \n",
       "min      3.307538    2.749756   -1.220623    3.004318    2.168807   -1.058328   \n",
       "25%      3.555421    3.097571   -0.951797    3.364435    2.784472   -0.789769   \n",
       "50%      3.696833    3.340439   -0.917673    3.494880    3.336231   -0.570141   \n",
       "75%      4.150450    4.798780   -0.754242    3.680844    4.318485   -0.336307   \n",
       "max      5.427180    9.513115   -0.284879    5.217143    9.319861    0.375247   \n",
       "\n",
       "           energy  \n",
       "count  247.000000  \n",
       "mean  -925.442282  \n",
       "std      0.015879  \n",
       "min   -925.458391  \n",
       "25%   -925.456709  \n",
       "50%   -925.448843  \n",
       "75%   -925.429230  \n",
       "max   -925.404608  "
      ]
     },
     "execution_count": 25,
     "metadata": {},
     "output_type": "execute_result"
    }
   ],
   "source": [
    "df1.describe()"
   ]
  },
  {
   "cell_type": "code",
   "execution_count": 26,
   "metadata": {},
   "outputs": [
    {
     "data": {
      "image/png": "[encoded data removed]",
      "text/plain": [
       "<Figure size 432x288 with 16 Axes>"
      ]
     },
     "metadata": {},
     "output_type": "display_data"
    }
   ],
   "source": [
    "df1.hist(bins=50)\n",
    "plt.show()"
   ]
  },
  {
   "cell_type": "code",
   "execution_count": 27,
   "metadata": {},
   "outputs": [
    {
     "data": {
      "image/png": "[encoded data removed]",
      "text/plain": [
       "<Figure size 432x288 with 1 Axes>"
      ]
     },
     "metadata": {},
     "output_type": "display_data"
    }
   ],
   "source": [
    "df1['energy'].hist(bins=50)\n",
    "plt.show()"
   ]
  },
  {
   "cell_type": "markdown",
   "metadata": {},
   "source": [
    "### 3, Dimensionality reduction and data visualization using PCA/t-SNE\n",
    "Clearly, t-SNE has a much better performance than PCA for the current dataset."
   ]
  },
  {
   "cell_type": "markdown",
   "metadata": {},
   "source": [
    "**3a. Function to plot 2D figure** <br>"
   ]
  },
  {
   "cell_type": "code",
   "execution_count": 28,
   "metadata": {},
   "outputs": [],
   "source": [
    "# plot 2D figure\n",
    "def plot2D(data, name):\n",
    "    x_min, x_max = data[:, 0].min() - 1, data[:, 0].max() + 1\n",
    "    y_min, y_max = data[:, 1].min() - 1, data[:, 1].max() + 1\n",
    "    plt.xlim(x_min, x_max)\n",
    "    plt.ylim(y_min, y_max)\n",
    "    marker_size=5\n",
    "    plt.scatter(data[:, 0], data[:, 1], marker_size)\n",
    "    plt.title(\"Data reduced via \" + name, fontsize=14)\n",
    "    plt.xlabel(name + \" compoent 1\", fontsize=14)\n",
    "    plt.ylabel(name + \" compoent 2\", fontsize=14)\n",
    "    plt.show()"
   ]
  },
  {
   "cell_type": "markdown",
   "metadata": {},
   "source": [
    "**3b. Use PCA to reduce the dataset down to two dimensions to plot the result** <br>"
   ]
  },
  {
   "cell_type": "code",
   "execution_count": 29,
   "metadata": {},
   "outputs": [],
   "source": [
    "# minimum number of dimensions required to preserve 95% of the training set’s variance:\n",
    "pca = PCA()\n",
    "pca.fit(df1)\n",
    "cumsum = np.cumsum(pca.explained_variance_ratio_)\n",
    "d = np.argmax(cumsum >= 0.95) + 1"
   ]
  },
  {
   "cell_type": "code",
   "execution_count": 30,
   "metadata": {},
   "outputs": [
    {
     "data": {
      "text/plain": [
       "2"
      ]
     },
     "execution_count": 30,
     "metadata": {},
     "output_type": "execute_result"
    }
   ],
   "source": [
    "d"
   ]
  },
  {
   "cell_type": "code",
   "execution_count": 31,
   "metadata": {},
   "outputs": [
    {
     "name": "stdout",
     "output_type": "stream",
     "text": [
      "Explained variation per principal component: [0.91096041 0.04553088]\n"
     ]
    }
   ],
   "source": [
    "pca = PCA(n_components=2)\n",
    "data_reduced_pca = pca.fit_transform(df1)\n",
    "print('Explained variation per principal component: {}'.format(pca.explained_variance_ratio_))"
   ]
  },
  {
   "cell_type": "code",
   "execution_count": 32,
   "metadata": {},
   "outputs": [
    {
     "data": {
      "image/png": "[encoded data removed]",
      "text/plain": [
       "<Figure size 432x288 with 1 Axes>"
      ]
     },
     "metadata": {},
     "output_type": "display_data"
    }
   ],
   "source": [
    "plot2D(data_reduced_pca, 'PCA')"
   ]
  },
  {
   "cell_type": "markdown",
   "metadata": {},
   "source": [
    "**3c. Use t-SNE to reduce the dataset down to two dimensions to plot the result** <br>"
   ]
  },
  {
   "cell_type": "code",
   "execution_count": 33,
   "metadata": {},
   "outputs": [],
   "source": [
    "tsne = TSNE(n_components=2, random_state=42)\n",
    "data_reduced_tsne = tsne.fit_transform(df1)"
   ]
  },
  {
   "cell_type": "code",
   "execution_count": 34,
   "metadata": {},
   "outputs": [
    {
     "data": {
      "image/png": "[encoded data removed]",
      "text/plain": [
       "<Figure size 432x288 with 1 Axes>"
      ]
     },
     "metadata": {},
     "output_type": "display_data"
    }
   ],
   "source": [
    "plot2D(data_reduced_tsne, 't-SNE')"
   ]
  },
  {
   "cell_type": "markdown",
   "metadata": {},
   "source": [
    "### 4, K-means clustering and visualization"
   ]
  },
  {
   "cell_type": "markdown",
   "metadata": {},
   "source": [
    "**4a. Function to plot Inertia diagram** <br>"
   ]
  },
  {
   "cell_type": "code",
   "execution_count": 35,
   "metadata": {},
   "outputs": [],
   "source": [
    "# adapted from https://github.com/ageron/handson-ml2/blob/master/09_unsupervised_learning.ipynb\n",
    "def plotInertia(inertias, k, m):\n",
    "    plt.figure(figsize=(8, 4))\n",
    "    plt.plot(range(1, k + 1), inertias, \"bo-\")\n",
    "    plt.xlabel(\"$k$\", fontsize=14)\n",
    "    plt.ylabel(\"Inertia\", fontsize=14)\n",
    "    plt.annotate('Elbow',\n",
    "                 xy=(m, inertias[m - 1]),\n",
    "                 xytext=(0.55, 0.55),\n",
    "                 textcoords='figure fraction',\n",
    "                 fontsize=16,\n",
    "                 arrowprops=dict(facecolor='black', shrink=0.1)\n",
    "                )\n",
    "    plt.axis([-1, k+1, -0.1*inertias[0], 1.1*inertias[0]])\n",
    "    plt.show()"
   ]
  },
  {
   "cell_type": "markdown",
   "metadata": {},
   "source": [
    "**4b. Function to plot silhouette score** <br>"
   ]
  },
  {
   "cell_type": "code",
   "execution_count": 36,
   "metadata": {},
   "outputs": [],
   "source": [
    "# adapted from https://github.com/ageron/handson-ml2/blob/master/09_unsupervised_learning.ipynb\n",
    "def plotSilhouette(kmeans_per_k, data_reduced, k):\n",
    "    silhouette_scores = [silhouette_score(data_reduced, model.labels_) for model in kmeans_per_k[1:k]]\n",
    "    plt.figure(figsize=(8, 4))\n",
    "    plt.plot(range(2, k+1), silhouette_scores, \"bo-\")\n",
    "    plt.xlabel(\"$k$\", fontsize=14)\n",
    "    plt.ylabel(\"Silhouette score\", fontsize=14)\n",
    "    plt.title('Silhouette score vs. number of clusters k')\n",
    "    plt.axis([0, 41, 0.5, 0.8])\n",
    "    plt.show()"
   ]
  },
  {
   "cell_type": "markdown",
   "metadata": {},
   "source": [
    "**4c. Function to plot Voronoi diagram** <br>"
   ]
  },
  {
   "cell_type": "code",
   "execution_count": 37,
   "metadata": {},
   "outputs": [],
   "source": [
    "# adapted from https://scikit-learn.org/stable/auto_examples/cluster/plot_kmeans_digits.html\n",
    "def plotVoronoi(kmeans_per_k, k, X, name):\n",
    "    # Step size of the mesh. Decrease to increase the quality of the VQ.\n",
    "    h = .02     # point in the mesh [x_min, x_max]x[y_min, y_max].\n",
    "\n",
    "    # Plot the decision boundary. For that, we will assign a color to each\n",
    "    x_min, x_max = X[:, 0].min() - 1, X[:, 0].max() + 1\n",
    "    y_min, y_max = X[:, 1].min() - 1, X[:, 1].max() + 1\n",
    "    xx, yy = np.meshgrid(np.arange(x_min, x_max, h), np.arange(y_min, y_max, h))\n",
    "\n",
    "    # Obtain labels for each point in mesh. Use last trained model.\n",
    "    Z = kmeans_per_k[k-1].predict(np.c_[xx.ravel(), yy.ravel()])\n",
    "\n",
    "    # Put the result into a color plot\n",
    "    Z = Z.reshape(xx.shape)\n",
    "    plt.figure(1)\n",
    "    plt.clf()\n",
    "    plt.imshow(Z, interpolation='nearest',\n",
    "               extent=(xx.min(), xx.max(), yy.min(), yy.max()),\n",
    "               cmap=plt.cm.Paired,\n",
    "               aspect='auto', origin='lower')\n",
    "\n",
    "    plt.plot(X[:, 0], X[:, 1], 'k.', markersize=2)\n",
    "\n",
    "    # Plot the centroids as a white X\n",
    "    centroids = kmeans_per_k[k-1].cluster_centers_\n",
    "    plt.scatter(centroids[:, 0], centroids[:, 1],\n",
    "                marker='x', s=169, linewidths=3,\n",
    "                color='w', zorder=10)\n",
    "    plt.title('K-means clustering on the ' + name + ' reduced data\\n'\n",
    "              '(Centroids are marked with white cross)')\n",
    "    plt.xlim(x_min, x_max)\n",
    "    plt.ylim(y_min, y_max)\n",
    "    plt.xlabel(name + \" compoent 1\", fontsize=14)\n",
    "    plt.ylabel(name + \" compoent 2\", fontsize=14)\n",
    "    plt.show()"
   ]
  },
  {
   "cell_type": "markdown",
   "metadata": {},
   "source": [
    "**4d. K-Means clustering on PCA reduced data** <br>\n",
    "It is challenging to decide the apporiate number of clusters based on inertia or silhouette score."
   ]
  },
  {
   "cell_type": "code",
   "execution_count": 38,
   "metadata": {},
   "outputs": [],
   "source": [
    "kmeans_per_k_pca = [KMeans(n_clusters=k, random_state=42).fit(data_reduced_pca) for k in range(1, 41)]\n",
    "inertias_pca = [model.inertia_ for model in kmeans_per_k_pca]"
   ]
  },
  {
   "cell_type": "code",
   "execution_count": 39,
   "metadata": {},
   "outputs": [
    {
     "data": {
      "image/png": "[encoded data removed]",
      "text/plain": [
       "<Figure size 576x288 with 1 Axes>"
      ]
     },
     "metadata": {},
     "output_type": "display_data"
    }
   ],
   "source": [
    "plotInertia(inertias_pca, 40, 5)"
   ]
  },
  {
   "cell_type": "code",
   "execution_count": 40,
   "metadata": {},
   "outputs": [
    {
     "data": {
      "image/png": "[encoded data removed]",
      "text/plain": [
       "<Figure size 576x288 with 1 Axes>"
      ]
     },
     "metadata": {},
     "output_type": "display_data"
    }
   ],
   "source": [
    "plotSilhouette(kmeans_per_k_pca, data_reduced_pca, 40)"
   ]
  },
  {
   "cell_type": "code",
   "execution_count": 41,
   "metadata": {},
   "outputs": [
    {
     "data": {
      "image/png": "[encoded data removed]",
      "text/plain": [
       "<Figure size 432x288 with 1 Axes>"
      ]
     },
     "metadata": {},
     "output_type": "display_data"
    }
   ],
   "source": [
    "# Elbow point indicates number of clusters to be 6\n",
    "plotVoronoi(kmeans_per_k_pca, 6, data_reduced_pca, 'PCA')"
   ]
  },
  {
   "cell_type": "code",
   "execution_count": 42,
   "metadata": {},
   "outputs": [
    {
     "data": {
      "image/png": "[encoded data removed]",
      "text/plain": [
       "<Figure size 432x288 with 1 Axes>"
      ]
     },
     "metadata": {},
     "output_type": "display_data"
    }
   ],
   "source": [
    "# Silhouette socreindicates number of clusters to be 18\n",
    "plotVoronoi(kmeans_per_k_pca, 18, data_reduced_pca, 'PCA')"
   ]
  },
  {
   "cell_type": "markdown",
   "metadata": {},
   "source": [
    "**4e. K-Means clustering on t-SNE reduced data** <br>\n",
    "Eblow method and Silhouette score indicate 5 and 11 are good choices for number of clusters."
   ]
  },
  {
   "cell_type": "code",
   "execution_count": 43,
   "metadata": {},
   "outputs": [],
   "source": [
    "kmeans_per_k_tsne = [KMeans(n_clusters=k, random_state=42).fit(data_reduced_tsne) for k in range(1, 41)]\n",
    "inertias_tsne = [model.inertia_ for model in kmeans_per_k_tsne]"
   ]
  },
  {
   "cell_type": "code",
   "execution_count": 44,
   "metadata": {},
   "outputs": [
    {
     "data": {
      "image/png": "[encoded data removed]",
      "text/plain": [
       "<Figure size 576x288 with 1 Axes>"
      ]
     },
     "metadata": {},
     "output_type": "display_data"
    }
   ],
   "source": [
    "plotInertia(inertias_tsne, 40, 5)"
   ]
  },
  {
   "cell_type": "code",
   "execution_count": 45,
   "metadata": {},
   "outputs": [
    {
     "name": "stderr",
     "output_type": "stream",
     "text": [
      "/Users/cherubic/anaconda3/lib/python3.6/site-packages/sklearn/metrics/pairwise.py:257: RuntimeWarning: invalid value encountered in sqrt\n",
      "  return distances if squared else np.sqrt(distances, out=distances)\n"
     ]
    },
    {
     "data": {
      "image/png": "[encoded data removed]",
      "text/plain": [
       "<Figure size 576x288 with 1 Axes>"
      ]
     },
     "metadata": {},
     "output_type": "display_data"
    }
   ],
   "source": [
    "plotSilhouette(kmeans_per_k_tsne, data_reduced_tsne, 40)"
   ]
  },
  {
   "cell_type": "code",
   "execution_count": 46,
   "metadata": {},
   "outputs": [
    {
     "data": {
      "image/png": "[encoded data removed]",
      "text/plain": [
       "<Figure size 432x288 with 1 Axes>"
      ]
     },
     "metadata": {},
     "output_type": "display_data"
    }
   ],
   "source": [
    "plotVoronoi(kmeans_per_k_tsne, 5, data_reduced_tsne, 't-SNE')"
   ]
  },
  {
   "cell_type": "code",
   "execution_count": 47,
   "metadata": {},
   "outputs": [
    {
     "data": {
      "image/png": "[encoded data removed]",
      "text/plain": [
       "<Figure size 432x288 with 1 Axes>"
      ]
     },
     "metadata": {},
     "output_type": "display_data"
    }
   ],
   "source": [
    "plotVoronoi(kmeans_per_k_tsne, 11, data_reduced_tsne, 't-SNE')"
   ]
  },
  {
   "cell_type": "markdown",
   "metadata": {},
   "source": [
    "### 5, Export coordinates of molecules that are closest to cluster centroids"
   ]
  },
  {
   "cell_type": "code",
   "execution_count": 48,
   "metadata": {},
   "outputs": [],
   "source": [
    "# return coordinates of representative candidates based on number of clusters\n",
    "def returnCoord(kmeans_per_k, k, data_reduced, df):\n",
    "    # obtain the index of molecule that is closest to a cluster centroid\n",
    "    index_list = []\n",
    "    for i in range(k):\n",
    "        distances = []\n",
    "        for j in range(len(data_reduced)):\n",
    "            if kmeans_per_k[k-1].labels_[j] == i:\n",
    "                distance = np.linalg.norm(data_reduced[j]-kmeans_per_k[k-1].cluster_centers_[i])\n",
    "                distances.append((distance, j))\n",
    "        index = df.index[distances[distances.index(min(distances))][1]]\n",
    "        index_list.append(index)\n",
    "    \n",
    "    # extract energy and coordinates based on index\n",
    "    coordinates = []\n",
    "    energies = []\n",
    "    for item in index_list:\n",
    "        coordinate, energy = parseData(item)\n",
    "        energies.append(energy)\n",
    "        coordinates.append(coordinate.tolist())\n",
    "        \n",
    "    return index_list, energies, coordinates"
   ]
  },
  {
   "cell_type": "markdown",
   "metadata": {},
   "source": [
    "**Based on the analysis from 4d and 4e, t-SNE is chosen for dimensionality reduction. For the number of clusters, 11 is prefered as it provides more diverse structures. 11 most representative structures for further optimizations are returned.** <br>"
   ]
  },
  {
   "cell_type": "code",
   "execution_count": 49,
   "metadata": {},
   "outputs": [
    {
     "data": {
      "text/plain": [
       "([2485, 4521, 1526, 2661, 4761, 2837, 1505, 4917, 3586, 71, 2018],\n",
       " [-925.430183811,\n",
       "  -925.446092432,\n",
       "  -925.451970605,\n",
       "  -925.45698182,\n",
       "  -925.444549257,\n",
       "  -925.45838311,\n",
       "  -925.453431547,\n",
       "  -925.428715144,\n",
       "  -925.411269166,\n",
       "  -925.449196158,\n",
       "  -925.446865043],\n",
       " [[[0.751765, -0.000305, -1.091831],\n",
       "   [0.768802, -0.002407, 1.102259],\n",
       "   [-0.101505, -2.491822, 0.01491],\n",
       "   [-1.85322, -0.000263, 0.015979],\n",
       "   [2.884527, -1.541741, -0.013734],\n",
       "   [-4.496226, 0.000234, -0.023367],\n",
       "   [-0.102683, 2.489309, 0.016911],\n",
       "   [2.879951, 1.545691, -0.016112]],\n",
       "  [[-0.150826, -0.062921, 0.366867],\n",
       "   [0.262318, -0.284031, -2.005494],\n",
       "   [-2.362601, -0.149756, -1.394138],\n",
       "   [1.933308, 1.48454, -0.869767],\n",
       "   [-0.646404, 2.490211, 0.565009],\n",
       "   [1.273957, -2.383482, -0.559119],\n",
       "   [-2.4567, -0.908665, 1.518777],\n",
       "   [2.200577, -0.352783, 1.589664]],\n",
       "  [[0.422751, 0.115794, 1.120848],\n",
       "   [0.422681, 0.131342, -1.119908],\n",
       "   [-1.977539, -0.846803, -0.006231],\n",
       "   [1.763534, 2.331313, 0.015903],\n",
       "   [2.951618, -0.585772, -0.003441],\n",
       "   [0.55049, -2.495899, -0.018202],\n",
       "   [-1.863634, 0.752902, -2.412718],\n",
       "   [-1.863238, 0.715998, 2.424201]],\n",
       "  [[-0.699443, -0.216152, -1.114596],\n",
       "   [-0.700204, -0.215003, 1.114729],\n",
       "   [1.860648, -0.025322, -2.00236],\n",
       "   [-2.030312, 2.024837, -0.00094],\n",
       "   [0.933939, 1.872446, -0.001911],\n",
       "   [-2.950079, -1.527139, -4.7e-05],\n",
       "   [1.858568, -0.021796, 2.004111],\n",
       "   [1.053634, -2.099261, 0.001078]],\n",
       "  [[-1.121417, -0.986374, -0.70829],\n",
       "   [0.68844, -0.234034, 0.694622],\n",
       "   [-1.377649, -1.604433, 1.973131],\n",
       "   [1.608371, 2.319624, 0.445954],\n",
       "   [3.227411, -0.023854, -0.230482],\n",
       "   [1.358699, -2.209728, -1.095457],\n",
       "   [-1.096271, 1.7378, -0.093269],\n",
       "   [-3.495852, 0.413968, -0.992783]],\n",
       "  [[0.001465, 0.00459, 1.090332],\n",
       "   [-0.003779, -0.00122, -1.088011],\n",
       "   [-2.706086, -0.245625, -0.400724],\n",
       "   [-1.14062, -2.460863, 0.406717],\n",
       "   [1.144522, 2.462371, -0.399363],\n",
       "   [-1.563403, 2.221788, 0.396468],\n",
       "   [1.562231, -2.221052, -0.407162],\n",
       "   [2.704556, 0.241633, 0.402859]],\n",
       "  [[0.488778, -0.204708, -1.172878],\n",
       "   [0.565625, -0.07229, 1.110306],\n",
       "   [-0.538267, 2.117304, -0.058839],\n",
       "   [2.448544, 1.599192, -0.085637],\n",
       "   [-2.120687, 0.001513, -1.715506],\n",
       "   [-2.04283, 0.204458, 1.788897],\n",
       "   [2.668895, -1.630174, 0.073156],\n",
       "   [-0.962877, -2.148535, 0.030403]],\n",
       "  [[2.229077, -0.129702, -0.000667],\n",
       "   [0.103503, -0.813213, 0.000455],\n",
       "   [-4.838086, -0.301925, 0.000372],\n",
       "   [1.629994, -2.130208, -1.91322],\n",
       "   [-0.009958, 1.906311, 4e-06],\n",
       "   [2.729159, 2.578389, -0.000469],\n",
       "   [1.632938, -2.129972, 1.912887],\n",
       "   [-2.354626, 0.566765, 0.000535]],\n",
       "  [[1.54029, -1.256504, 1.21861],\n",
       "   [0.862906, -0.195303, -0.592711],\n",
       "   [0.957122, -2.968503, -0.98668],\n",
       "   [-3.827074, 0.09125, -0.13174],\n",
       "   [-1.262247, -1.111044, 1.025277],\n",
       "   [3.380599, 0.738161, 0.346911],\n",
       "   [-1.43848, 1.4237, -0.167305],\n",
       "   [0.942852, 2.579905, -0.411297]],\n",
       "  [[0.111239, 0.166058, -0.802887],\n",
       "   [0.517568, 0.263771, 1.387488],\n",
       "   [-1.737056, -1.393347, 0.753968],\n",
       "   [-2.469447, 0.027164, -1.669846],\n",
       "   [2.777963, -0.535866, -0.711042],\n",
       "   [-1.658832, 1.804494, 0.915449],\n",
       "   [1.855651, 2.275066, -0.016721],\n",
       "   [0.905378, -2.400586, 0.424792]],\n",
       "  [[-0.688029, 0.254179, 0.723163],\n",
       "   [1.086042, 0.990982, -0.602908],\n",
       "   [-1.471176, 2.130951, -1.131496],\n",
       "   [0.762444, 2.364857, 1.831732],\n",
       "   [-2.793013, -0.556282, -0.814371],\n",
       "   [3.314109, -0.522405, -1.248736],\n",
       "   [1.309739, -1.65141, 0.427761],\n",
       "   [-1.328667, -2.411934, 0.872701]]])"
      ]
     },
     "execution_count": 49,
     "metadata": {},
     "output_type": "execute_result"
    }
   ],
   "source": [
    "returnCoord(kmeans_per_k_tsne, 11, data_reduced_tsne, df1)"
   ]
  }
 ],
 "metadata": {
  "kernelspec": {
   "display_name": "Python 3",
   "language": "python",
   "name": "python3"
  },
  "language_info": {
   "codemirror_mode": {
    "name": "ipython",
    "version": 3
   },
   "file_extension": ".py",
   "mimetype": "text/x-python",
   "name": "python",
   "nbconvert_exporter": "python",
   "pygments_lexer": "ipython3",
   "version": "3.6.5"
  }
 },
 "nbformat": 4,
 "nbformat_minor": 2
}
